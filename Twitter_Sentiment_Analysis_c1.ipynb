{
 "cells": [
  {
   "cell_type": "markdown",
   "id": "2b7faf1b",
   "metadata": {},
   "source": [
    "### Importing necessary packages"
   ]
  },
  {
   "cell_type": "code",
   "execution_count": 1,
   "id": "519659bc",
   "metadata": {},
   "outputs": [],
   "source": [
    "import pandas as pd\n",
    "import numpy as np\n",
    "import matplotlib.pyplot as plt\n",
    "import seaborn as sns\n",
    "import nltk\n",
    "from nltk.corpus import stopwords\n",
    "from wordcloud import WordCloud\n",
    "from sklearn.model_selection import train_test_split\n",
    "from sklearn.feature_extraction.text import CountVectorizer\n",
    "from sklearn.naive_bayes import MultinomialNB\n",
    "from sklearn.metrics import accuracy_score, classification_report\n",
    "from sklearn.feature_extraction.text import TfidfVectorizer\n",
    "from sklearn.svm import SVC\n",
    "from sklearn.neighbors import KNeighborsClassifier"
   ]
  },
  {
   "cell_type": "markdown",
   "id": "12f59e3c",
   "metadata": {},
   "source": [
    "### Exploratory data analysis"
   ]
  },
  {
   "cell_type": "code",
   "execution_count": 3,
   "id": "5f278de7",
   "metadata": {},
   "outputs": [
    {
     "name": "stdout",
     "output_type": "stream",
     "text": [
      "       textID                                               text  \\\n",
      "0  cb774db0d1                I`d have responded, if I were going   \n",
      "1  549e992a42      Sooo SAD I will miss you here in San Diego!!!   \n",
      "2  088c60f138                          my boss is bullying me...   \n",
      "3  9642c003ef                     what interview! leave me alone   \n",
      "4  358bd9e861   Sons of ****, why couldn`t they put them on t...   \n",
      "\n",
      "                         selected_text sentiment  \n",
      "0  I`d have responded, if I were going   neutral  \n",
      "1                             Sooo SAD  negative  \n",
      "2                          bullying me  negative  \n",
      "3                       leave me alone  negative  \n",
      "4                        Sons of ****,  negative  \n",
      "            textID                                  text selected_text  \\\n",
      "count        27481                                 27480         27480   \n",
      "unique       27481                                 27480         22463   \n",
      "top     cb774db0d1   I`d have responded, if I were going          good   \n",
      "freq             1                                     1           199   \n",
      "\n",
      "       sentiment  \n",
      "count      27481  \n",
      "unique         3  \n",
      "top      neutral  \n",
      "freq       11118  \n"
     ]
    },
    {
     "name": "stderr",
     "output_type": "stream",
     "text": [
      "C:\\Users\\admin\\anaconda3\\lib\\site-packages\\seaborn\\_decorators.py:36: FutureWarning: Pass the following variable as a keyword arg: x. From version 0.12, the only valid positional argument will be `data`, and passing other arguments without an explicit keyword will result in an error or misinterpretation.\n",
      "  warnings.warn(\n"
     ]
    },
    {
     "data": {
      "image/png": "[encoded data removed]",
      "text/plain": [
       "<Figure size 432x288 with 1 Axes>"
      ]
     },
     "metadata": {
      "needs_background": "light"
     },
     "output_type": "display_data"
    }
   ],
   "source": [
    "# Load the dataset\n",
    "data = pd.read_csv('dataset_analysis.csv')\n",
    "\n",
    "# Display basic statistics\n",
    "print(data.head())\n",
    "print(data.describe())\n",
    "\n",
    "# Visualize sentiment distribution\n",
    "sns.countplot(data['sentiment'])\n",
    "plt.show()"
   ]
  },
  {
   "cell_type": "markdown",
   "id": "a0b0f570",
   "metadata": {},
   "source": [
    "### Wordcloud plotting "
   ]
  },
  {
   "cell_type": "code",
   "execution_count": 4,
   "id": "c4f22966",
   "metadata": {},
   "outputs": [
    {
     "data": {
      "image/png": "[encoded data removed]",
      "text/plain": [
       "<Figure size 864x432 with 1 Axes>"
      ]
     },
     "metadata": {
      "needs_background": "light"
     },
     "output_type": "display_data"
    }
   ],
   "source": [
    "from collections import Counter\n",
    "import matplotlib.pyplot as plt\n",
    "\n",
    "# Tokenize the text into words\n",
    "words = ' '.join(data['selected_text'].fillna('').astype(str)).split()\n",
    "\n",
    "# Count word frequencies\n",
    "word_freq = Counter(words)\n",
    "\n",
    "# Get the N most common words and their counts\n",
    "top_n_words = word_freq.most_common(30)  \n",
    "\n",
    "# Extract words and counts for plotting\n",
    "words, counts = zip(*top_n_words)\n",
    "\n",
    "# Create a bar plot with increased bar width\n",
    "bar_width = 0.6\n",
    "plt.figure(figsize=(12, 6))\n",
    "plt.bar(words, counts, width=bar_width, color='blue')\n",
    "plt.xticks(rotation=45, ha='right', fontsize=12)\n",
    "plt.xlabel('Words', fontsize=14)\n",
    "plt.ylabel('Frequency', fontsize=14)\n",
    "plt.title('Top 30 Most Common Words', fontsize=16)\n",
    "plt.tight_layout()\n",
    "plt.show()\n"
   ]
  },
  {
   "cell_type": "markdown",
   "id": "9a615a5c",
   "metadata": {},
   "source": [
    "### Cleaning the data"
   ]
  },
  {
   "cell_type": "code",
   "execution_count": 15,
   "id": "e9c977a8",
   "metadata": {},
   "outputs": [
    {
     "name": "stderr",
     "output_type": "stream",
     "text": [
      "C:\\Users\\admin\\AppData\\Local\\Temp/ipykernel_11760/1185445754.py:2: FutureWarning: The default value of regex will change from True to False in a future version.\n",
      "  data['cleaned_text'] = data['text'].str.replace('[^\\w\\s]', '').str.lower()\n",
      "[nltk_data] Downloading package stopwords to\n",
      "[nltk_data]     C:\\Users\\admin\\AppData\\Roaming\\nltk_data...\n",
      "[nltk_data]   Package stopwords is already up-to-date!\n"
     ]
    },
    {
     "name": "stdout",
     "output_type": "stream",
     "text": [
      "Data has been cleaned successfully!!!\n"
     ]
    }
   ],
   "source": [
    "# Removing punctuation and converting to lowercase\n",
    "data['cleaned_text'] = data['text'].str.replace('[^\\w\\s]', '').str.lower()\n",
    "\n",
    "# Removing stopwords\n",
    "nltk.download('stopwords')\n",
    "stop_words = set(stopwords.words('english'))\n",
    "data['cleaned_text'] = data['cleaned_text'].apply(lambda x: ' '.join([word for word in x.split() if word not in stop_words]))\n",
    "\n",
    "print(\"Data has been cleaned successfully!!!\")"
   ]
  },
  {
   "cell_type": "code",
   "execution_count": 18,
   "id": "03af7dc0",
   "metadata": {},
   "outputs": [
    {
     "name": "stdout",
     "output_type": "stream",
     "text": [
      "Train-test split done\n"
     ]
    }
   ],
   "source": [
    "# Tokenization using TF-IDF Vectorizer\n",
    "vectorizer = TfidfVectorizer()\n",
    "X = vectorizer.fit_transform(data['cleaned_text'])\n",
    "\n",
    "# Splitting the data\n",
    "X_train, X_test, y_train, y_test = train_test_split(X, data['sentiment'], test_size=0.2, random_state=42)\n",
    "\n",
    "print(\"Train-test split done\")"
   ]
  },
  {
   "cell_type": "markdown",
   "id": "0fef27e2",
   "metadata": {},
   "source": [
    "### Training SVM, KNN and Naive Bayes model"
   ]
  },
  {
   "cell_type": "code",
   "execution_count": 19,
   "id": "12ee13ac",
   "metadata": {},
   "outputs": [
    {
     "data": {
      "text/plain": [
       "SVC(kernel='linear')"
      ]
     },
     "execution_count": 19,
     "metadata": {},
     "output_type": "execute_result"
    }
   ],
   "source": [
    "# Train a Support Vector Machine (SVM) classifier\n",
    "svm_classifier = SVC(kernel='linear')\n",
    "svm_classifier.fit(X_train, y_train)\n"
   ]
  },
  {
   "cell_type": "code",
   "execution_count": 20,
   "id": "01e78c19",
   "metadata": {},
   "outputs": [
    {
     "data": {
      "text/plain": [
       "KNeighborsClassifier()"
      ]
     },
     "execution_count": 20,
     "metadata": {},
     "output_type": "execute_result"
    }
   ],
   "source": [
    "# Train a K-Nearest Neighbors (KNN) classifier\n",
    "knn_classifier = KNeighborsClassifier(n_neighbors=5)\n",
    "knn_classifier.fit(X_train, y_train)\n"
   ]
  },
  {
   "cell_type": "code",
   "execution_count": 21,
   "id": "1bbf0891",
   "metadata": {},
   "outputs": [
    {
     "data": {
      "text/plain": [
       "MultinomialNB()"
      ]
     },
     "execution_count": 21,
     "metadata": {},
     "output_type": "execute_result"
    }
   ],
   "source": [
    "# Train a Naive Bayes classifier\n",
    "classifier = MultinomialNB()\n",
    "classifier.fit(X_train, y_train)\n"
   ]
  },
  {
   "cell_type": "markdown",
   "id": "456788d4",
   "metadata": {},
   "source": [
    "### Assessing All Classifier Performance"
   ]
  },
  {
   "cell_type": "code",
   "execution_count": 22,
   "id": "91b1e14d",
   "metadata": {},
   "outputs": [
    {
     "name": "stdout",
     "output_type": "stream",
     "text": [
      "Accuracy: 0.6221575404766236\n",
      "              precision    recall  f1-score   support\n",
      "\n",
      "    negative       0.80      0.39      0.52      1562\n",
      "     neutral       0.54      0.83      0.65      2230\n",
      "    positive       0.75      0.57      0.65      1705\n",
      "\n",
      "    accuracy                           0.62      5497\n",
      "   macro avg       0.69      0.59      0.61      5497\n",
      "weighted avg       0.68      0.62      0.61      5497\n",
      "\n"
     ]
    }
   ],
   "source": [
    "# Predict on the test set\n",
    "y_pred = classifier.predict(X_test)\n",
    "\n",
    "# Evaluate performance\n",
    "accuracy = accuracy_score(y_test, y_pred)\n",
    "report = classification_report(y_test, y_pred)\n",
    "print(f'Accuracy: {accuracy}')\n",
    "print(report)\n"
   ]
  },
  {
   "cell_type": "code",
   "execution_count": 23,
   "id": "5a72aa30",
   "metadata": {},
   "outputs": [
    {
     "name": "stdout",
     "output_type": "stream",
     "text": [
      "SVM Accuracy: 0.6981990176459887\n",
      "              precision    recall  f1-score   support\n",
      "\n",
      "    negative       0.75      0.58      0.65      1562\n",
      "     neutral       0.63      0.78      0.70      2230\n",
      "    positive       0.78      0.70      0.74      1705\n",
      "\n",
      "    accuracy                           0.70      5497\n",
      "   macro avg       0.72      0.69      0.70      5497\n",
      "weighted avg       0.71      0.70      0.70      5497\n",
      "\n"
     ]
    }
   ],
   "source": [
    "# Predict using the SVM classifier\n",
    "svm_y_pred = svm_classifier.predict(X_test)\n",
    "\n",
    "# Evaluate SVM performance\n",
    "svm_accuracy = accuracy_score(y_test, svm_y_pred)\n",
    "svm_report = classification_report(y_test, svm_y_pred)\n",
    "print(f'SVM Accuracy: {svm_accuracy}')\n",
    "print(svm_report)\n"
   ]
  },
  {
   "cell_type": "code",
   "execution_count": 24,
   "id": "7f0ecaaa",
   "metadata": {},
   "outputs": [
    {
     "name": "stdout",
     "output_type": "stream",
     "text": [
      "KNN Accuracy: 0.4455157358559214\n",
      "              precision    recall  f1-score   support\n",
      "\n",
      "    negative       0.71      0.06      0.11      1562\n",
      "     neutral       0.42      0.98      0.59      2230\n",
      "    positive       0.84      0.10      0.19      1705\n",
      "\n",
      "    accuracy                           0.45      5497\n",
      "   macro avg       0.66      0.38      0.30      5497\n",
      "weighted avg       0.63      0.45      0.33      5497\n",
      "\n"
     ]
    }
   ],
   "source": [
    "# Predict using the KNN classifier\n",
    "knn_y_pred = knn_classifier.predict(X_test)\n",
    "\n",
    "# Evaluate KNN performance\n",
    "knn_accuracy = accuracy_score(y_test, knn_y_pred)\n",
    "knn_report = classification_report(y_test, knn_y_pred)\n",
    "print(f'KNN Accuracy: {knn_accuracy}')\n",
    "print(knn_report)\n"
   ]
  },
  {
   "cell_type": "code",
   "execution_count": null,
   "id": "ddb7dfab",
   "metadata": {},
   "outputs": [],
   "source": []
  }
 ],
 "metadata": {
  "kernelspec": {
   "display_name": "Python 3 (ipykernel)",
   "language": "python",
   "name": "python3"
  },
  "language_info": {
   "codemirror_mode": {
    "name": "ipython",
    "version": 3
   },
   "file_extension": ".py",
   "mimetype": "text/x-python",
   "name": "python",
   "nbconvert_exporter": "python",
   "pygments_lexer": "ipython3",
   "version": "3.9.7"
  }
 },
 "nbformat": 4,
 "nbformat_minor": 5
}
